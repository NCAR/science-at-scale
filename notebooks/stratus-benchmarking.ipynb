{
 "cells": [
  {
   "cell_type": "markdown",
   "metadata": {},
   "source": [
    "# Benchmark Stratus Data Rates\n",
    "\n",
    "The eventual goal is to have a GUI-based application that can produce a variety of plots that the climate impacts community would find useful.   One of these plots is \"Number of Days with Temperature over X Degrees\" for some GPS location and time range."
   ]
  },
  {
   "cell_type": "code",
   "execution_count": null,
   "metadata": {},
   "outputs": [],
   "source": [
    "import xarray as xr\n",
    "import numpy as np\n",
    "import fsspec\n",
    "\n",
    "import pprint\n",
    "import json\n",
    "from operator import mul\n",
    "import random\n",
    "\n",
    "import dask\n",
    "from ncar_jobqueue import NCARCluster\n",
    "from distributed import Client"
   ]
  },
  {
   "cell_type": "markdown",
   "metadata": {},
   "source": [
    "## Create and Connect to a Dask Distributed Cluster\n",
    "\n",
    "Run the cell below if the notebook is running on a NCAR supercomputer.\n",
    "If the notebook is running on a different parallel computing environment, you will need \n",
    "to replace the usage of `NCARCluster` with a similar object from `dask_jobqueue` or `dask_gateway`."
   ]
  },
  {
   "cell_type": "code",
   "execution_count": null,
   "metadata": {},
   "outputs": [],
   "source": [
    "num_jobs = 1 #50 #30 #10 #2 \n",
    "walltime = \"0:10:00\"\n",
    "memory='2GB' \n",
    "cluster = NCARCluster(walltime=walltime, memory=memory)\n",
    "cluster.scale(jobs=num_jobs)\n",
    "\n",
    "\n",
    "client = Client(cluster)\n",
    "cluster"
   ]
  },
  {
   "cell_type": "code",
   "execution_count": null,
   "metadata": {},
   "outputs": [],
   "source": [
    "cluster.close()"
   ]
  },
  {
   "cell_type": "markdown",
   "metadata": {},
   "source": [
    "### Starting Point:  Load max daily temperatures from CESM LENS Data"
   ]
  },
  {
   "cell_type": "code",
   "execution_count": null,
   "metadata": {},
   "outputs": [],
   "source": [
    "s3_path = 's3://ncar-cesm-lens/atm/daily/cesmLE-RCP85-TREFHTMX.zarr' \n",
    "ds = xr.open_zarr(fsspec.get_mapper(s3_path, anon=True),\n",
    "                  consolidated=True)\n",
    "\n",
    "ds"
   ]
  },
  {
   "cell_type": "code",
   "execution_count": null,
   "metadata": {
    "tags": []
   },
   "outputs": [],
   "source": [
    "%%time\n",
    "\n",
    "# Choose Boulder data for year 2010\n",
    "(lat, lon) = (40.01, 244.8)\n",
    "temps = ds.sel(lat=lat, lon=lon, method='nearest')\n",
    "temps = temps.sel(time=slice('2010-01-01', '2010-12-31'))\n",
    "\n",
    "df = temps.TREFHTMX.to_dataframe()\n",
    "df.to_csv('Boulder_2010.csv', index=True)"
   ]
  },
  {
   "cell_type": "code",
   "execution_count": null,
   "metadata": {},
   "outputs": [],
   "source": [
    "cluster.close()"
   ]
  },
  {
   "cell_type": "code",
   "execution_count": null,
   "metadata": {},
   "outputs": [],
   "source": [
    "temps"
   ]
  }
 ],
 "metadata": {
  "kernelspec": {
   "display_name": "Python 3 (ipykernel)",
   "language": "python",
   "name": "python3"
  },
  "language_info": {
   "codemirror_mode": {
    "name": "ipython",
    "version": 3
   },
   "file_extension": ".py",
   "mimetype": "text/x-python",
   "name": "python",
   "nbconvert_exporter": "python",
   "pygments_lexer": "ipython3",
   "version": "3.8.10"
  }
 },
 "nbformat": 4,
 "nbformat_minor": 4
}
